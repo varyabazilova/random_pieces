{
 "cells": [
  {
   "cell_type": "code",
   "execution_count": 1,
   "id": "a4fe32ff-37fa-43e7-9973-8e554ef802b8",
   "metadata": {},
   "outputs": [],
   "source": [
    "from rasterio.plot import show\n",
    "from rasterio.merge import merge\n",
    "import rasterio as rio\n",
    "from pathlib import Path\n",
    "\n",
    "import os, glob\n",
    "from os import listdir\n",
    "\n",
    "import os\n",
    "import fnmatch"
   ]
  },
  {
   "cell_type": "code",
   "execution_count": 2,
   "id": "62f7aa82-6cf2-4e72-bae2-e4c707128c03",
   "metadata": {},
   "outputs": [],
   "source": [
    "# in this notebook varya is trying to merge DEM tiles together following this tutorial: \n",
    "# https://medium.com/spatial-data-science/how-to-mosaic-merge-raster-data-in-python-fb18e44f3c8\n",
    "\n",
    "# only take .tiff that have DSM in the name in each folder\n",
    "# then merge them all together \n",
    "\n"
   ]
  },
  {
   "cell_type": "code",
   "execution_count": 3,
   "id": "3ddc6a29-851d-499e-99bf-4ef98e4b42ab",
   "metadata": {},
   "outputs": [
    {
     "data": {
      "text/plain": [
       "list"
      ]
     },
     "execution_count": 3,
     "metadata": {},
     "output_type": "execute_result"
    }
   ],
   "source": [
    "path= '/Users/varyabazilova/Desktop/alluvial_fans/dem_all'\n",
    "\n",
    "\n",
    "matches = []\n",
    "for root, dirnames, filenames in os.walk(path):\n",
    "    for filename in fnmatch.filter(filenames, '*_DSM.tif'):\n",
    "        matches.append(os.path.join(root, filename))\n",
    "        \n",
    "type(matches)"
   ]
  },
  {
   "cell_type": "code",
   "execution_count": 4,
   "id": "7e4b813d-776d-42ae-aa33-4fded24753ec",
   "metadata": {},
   "outputs": [
    {
     "data": {
      "text/plain": [
       "1331"
      ]
     },
     "execution_count": 4,
     "metadata": {},
     "output_type": "execute_result"
    }
   ],
   "source": [
    "len(matches)"
   ]
  },
  {
   "cell_type": "code",
   "execution_count": 5,
   "id": "6da5ede3-ff00-487a-b748-58a3e202fb9c",
   "metadata": {},
   "outputs": [],
   "source": [
    "# loop through the raster files, \n",
    "# open them with rasterio and append them to the raster_to_mosiac \n",
    "\n",
    "raster_to_mosiac = []\n",
    "\n",
    "for p in matches:\n",
    "    raster = rio.open(p)\n",
    "    raster_to_mosiac.append(raster)"
   ]
  },
  {
   "cell_type": "code",
   "execution_count": 6,
   "id": "32c11c71-53a8-4e04-a7b9-f1fa61088b3d",
   "metadata": {},
   "outputs": [],
   "source": [
    "# raster_to_mosiac"
   ]
  },
  {
   "cell_type": "code",
   "execution_count": 6,
   "id": "6a96d041-0d37-4e94-914e-7cbe0cd8c577",
   "metadata": {},
   "outputs": [
    {
     "name": "stdout",
     "output_type": "stream",
     "text": [
      "CPU times: user 34.5 s, sys: 29.9 s, total: 1min 4s\n",
      "Wall time: 1min 42s\n"
     ]
    }
   ],
   "source": [
    "%%time\n",
    "#  use the merge() method from rasterio to create the mosaic\n",
    "output_path = '/Users/varyabazilova/Desktop/alluvial_fans/dem_all/output/AW3D30_JAXA_DEM_merged_all.tiff'\n",
    "\n",
    "mosaic, output = merge(raster_to_mosiac)\n",
    "\n",
    "\n",
    "output_meta = raster.meta.copy()\n",
    "output_meta.update(\n",
    "    {\"driver\": \"GTiff\",\n",
    "        \"height\": mosaic.shape[1],\n",
    "        \"width\": mosaic.shape[2],\n",
    "        \"transform\": output,\n",
    "    }\n",
    ")"
   ]
  },
  {
   "cell_type": "code",
   "execution_count": 8,
   "id": "51078371-4c89-404f-8afa-73b610b3c5b8",
   "metadata": {},
   "outputs": [],
   "source": [
    "# output_meta"
   ]
  },
  {
   "cell_type": "code",
   "execution_count": null,
   "id": "64c5f6ae-eea5-433e-9f3d-a1d72fb0c40a",
   "metadata": {},
   "outputs": [],
   "source": [
    "%%time \n",
    "with rio.open(output_path, 'w', **output_meta) as m:\n",
    "    m.write(mosaic)"
   ]
  },
  {
   "cell_type": "code",
   "execution_count": null,
   "id": "dca429f4-6b52-41ae-accd-cb5a7074cc27",
   "metadata": {},
   "outputs": [],
   "source": []
  }
 ],
 "metadata": {
  "kernelspec": {
   "display_name": "Python [conda env:project1] *",
   "language": "python",
   "name": "conda-env-project1-py"
  },
  "language_info": {
   "codemirror_mode": {
    "name": "ipython",
    "version": 3
   },
   "file_extension": ".py",
   "mimetype": "text/x-python",
   "name": "python",
   "nbconvert_exporter": "python",
   "pygments_lexer": "ipython3",
   "version": "3.7.11"
  }
 },
 "nbformat": 4,
 "nbformat_minor": 5
}
